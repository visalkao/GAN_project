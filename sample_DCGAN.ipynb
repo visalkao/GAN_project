{
 "cells": [
  {
   "cell_type": "code",
   "execution_count": 1,
   "id": "836b742e",
   "metadata": {},
   "outputs": [],
   "source": [
    "import torch\n",
    "import torch.nn as nn\n",
    "import torch.optim as optim\n",
    "from torchvision import datasets, transforms\n",
    "from torch.utils.data import DataLoader\n",
    "import matplotlib.pyplot as plt\n",
    "import numpy as np\n",
    "import torchvision"
   ]
  },
  {
   "cell_type": "code",
   "execution_count": 2,
   "id": "5bca93ad",
   "metadata": {},
   "outputs": [],
   "source": [
    "transform = transforms.Compose([\n",
    "    transforms.ToTensor(),\n",
    "    transforms.Normalize((0.5,), (0.5,))  # normalize to [-1, 1]\n",
    "])\n",
    "\n",
    "dataset = datasets.MNIST(root='./data', download=True, transform=transform)\n",
    "dataloader = DataLoader(dataset, batch_size=128, shuffle=True)\n"
   ]
  },
  {
   "cell_type": "code",
   "execution_count": 3,
   "id": "ef454008",
   "metadata": {},
   "outputs": [],
   "source": [
    "class Generator(nn.Module):\n",
    "    def __init__(self, z_dim=100):\n",
    "        super().__init__()\n",
    "        self.net = nn.Sequential(\n",
    "            # Input: (N, z_dim, 1, 1)\n",
    "            nn.ConvTranspose2d(z_dim, 128, kernel_size=7, stride=1, padding=0),  # (N, 128, 7, 7)\n",
    "            nn.BatchNorm2d(128),\n",
    "            nn.ReLU(True),\n",
    "\n",
    "            nn.ConvTranspose2d(128, 64, kernel_size=4, stride=2, padding=1),     # (N, 64, 14, 14)\n",
    "            nn.BatchNorm2d(64),\n",
    "            nn.ReLU(True),\n",
    "\n",
    "            nn.ConvTranspose2d(64, 1, kernel_size=4, stride=2, padding=1),       # (N, 1, 28, 28)\n",
    "            nn.Tanh()\n",
    "        )\n",
    "\n",
    "    def forward(self, z):\n",
    "        z = z.view(z.size(0), z.size(1), 1, 1)  # reshape to (N, z_dim, 1, 1)\n",
    "        return self.net(z)\n",
    "\n",
    "class Discriminator(nn.Module):\n",
    "    def __init__(self):\n",
    "        super().__init__()\n",
    "        self.net = nn.Sequential(\n",
    "            # Input: (N, 1, 28, 28)\n",
    "            nn.Conv2d(1, 64, kernel_size=4, stride=2, padding=1),   # (N, 64, 14, 14)\n",
    "            nn.LeakyReLU(0.2, inplace=True),\n",
    "\n",
    "            nn.Conv2d(64, 128, kernel_size=4, stride=2, padding=1), # (N, 128, 7, 7)\n",
    "            nn.BatchNorm2d(128),\n",
    "            nn.LeakyReLU(0.2, inplace=True),\n",
    "\n",
    "            nn.Conv2d(128, 1, kernel_size=7, stride=1, padding=0),  # (N, 1, 1, 1)\n",
    "            nn.Sigmoid()\n",
    "        )\n",
    "\n",
    "    def forward(self, x):\n",
    "        out = self.net(x)\n",
    "        return out.view(-1, 1)\n",
    "\n"
   ]
  },
  {
   "cell_type": "code",
   "execution_count": null,
   "id": "04f57f38",
   "metadata": {},
   "outputs": [
    {
     "name": "stdout",
     "output_type": "stream",
     "text": [
      "Epoch 1/30 | Loss D: 0.0042, Loss G: 6.9461\n",
      "Epoch 2/30 | Loss D: 0.1578, Loss G: 4.8145\n",
      "Epoch 3/30 | Loss D: 0.1666, Loss G: 3.4833\n",
      "Epoch 4/30 | Loss D: 0.2107, Loss G: 3.0427\n",
      "Epoch 5/30 | Loss D: 0.9574, Loss G: 1.7580\n",
      "Epoch 6/30 | Loss D: 0.5293, Loss G: 2.0907\n",
      "Epoch 7/30 | Loss D: 0.3541, Loss G: 2.6725\n",
      "Epoch 8/30 | Loss D: 0.5303, Loss G: 2.0199\n",
      "Epoch 9/30 | Loss D: 0.3704, Loss G: 2.2636\n",
      "Epoch 10/30 | Loss D: 0.2859, Loss G: 2.7641\n",
      "Epoch 11/30 | Loss D: 0.2646, Loss G: 2.2656\n",
      "Epoch 12/30 | Loss D: 0.4225, Loss G: 2.4938\n",
      "Epoch 13/30 | Loss D: 0.6976, Loss G: 1.8416\n",
      "Epoch 14/30 | Loss D: 0.4469, Loss G: 2.0029\n",
      "Epoch 15/30 | Loss D: 0.3766, Loss G: 4.3061\n",
      "Epoch 16/30 | Loss D: 0.3549, Loss G: 2.4286\n",
      "Epoch 17/30 | Loss D: 0.3298, Loss G: 2.2932\n",
      "Epoch 18/30 | Loss D: 0.6547, Loss G: 1.8854\n",
      "Epoch 19/30 | Loss D: 0.5733, Loss G: 1.8999\n",
      "Epoch 20/30 | Loss D: 0.3259, Loss G: 1.8351\n"
     ]
    }
   ],
   "source": [
    "device = torch.device(\"cuda\" if torch.cuda.is_available() else \"cpu\")\n",
    "\n",
    "G = Generator().to(device)\n",
    "D = Discriminator().to(device)\n",
    "\n",
    "def weights_init(m):\n",
    "    if isinstance(m, (nn.Conv2d, nn.ConvTranspose2d, nn.BatchNorm2d)):\n",
    "        nn.init.normal_(m.weight, 0.0, 0.02)\n",
    "\n",
    "G.apply(weights_init)\n",
    "D.apply(weights_init)\n",
    "\n",
    "loss_fn = nn.BCELoss()\n",
    "optimizer_G = optim.Adam(G.parameters(), lr=2e-4)\n",
    "optimizer_D = optim.Adam(D.parameters(), lr=2e-4)\n",
    "\n",
    "epochs = 30\n",
    "for epoch in range(epochs):\n",
    "    for real_imgs, _ in dataloader:\n",
    "        real_imgs = real_imgs.to(device)\n",
    "        batch_size = real_imgs.size(0)\n",
    "        \n",
    "        # Labels\n",
    "        real_labels = torch.ones(batch_size, 1).to(device)\n",
    "        fake_labels = torch.zeros(batch_size, 1).to(device)\n",
    "\n",
    "        # --------------------\n",
    "        # Train Discriminator\n",
    "        # --------------------\n",
    "        z = torch.randn(batch_size, 100).to(device)\n",
    "        fake_imgs = G(z)\n",
    "\n",
    "        D_real = D(real_imgs)\n",
    "        D_fake = D(fake_imgs.detach())\n",
    "        loss_D = loss_fn(D_real, real_labels) + loss_fn(D_fake, fake_labels)\n",
    "\n",
    "        optimizer_D.zero_grad()\n",
    "        loss_D.backward()\n",
    "        optimizer_D.step()\n",
    "\n",
    "        # ----------------\n",
    "        # Train Generator\n",
    "        # ----------------\n",
    "        D_fake = D(fake_imgs)\n",
    "        loss_G = loss_fn(D_fake, real_labels)  # Fool D → want labels = 1\n",
    "\n",
    "        optimizer_G.zero_grad()\n",
    "        loss_G.backward()\n",
    "        optimizer_G.step()\n",
    "\n",
    "    print(f\"Epoch {epoch+1}/{epochs} | Loss D: {loss_D.item():.4f}, Loss G: {loss_G.item():.4f}\")\n"
   ]
  },
  {
   "cell_type": "code",
   "execution_count": null,
   "id": "036a5af3",
   "metadata": {},
   "outputs": [
    {
     "data": {
      "image/png": "[encoded data removed]",
      "text/plain": [
       "<Figure size 800x800 with 1 Axes>"
      ]
     },
     "metadata": {},
     "output_type": "display_data"
    }
   ],
   "source": [
    "def show_samples(generator, discriminator):\n",
    "    generator.eval()\n",
    "    discriminator.eval()\n",
    "    z = torch.randn(1, 100).to(device)\n",
    "    samples = generator(z).cpu().detach()\n",
    "    print(discriminator.predict(samples))\n",
    "    grid = np.transpose(torchvision.utils.make_grid(samples, nrow=8, normalize=True), (1, 2, 0))\n",
    "    plt.figure(figsize=(8,8))\n",
    "    plt.imshow(grid)\n",
    "    plt.axis('off')\n",
    "    plt.show()\n",
    "\n",
    "show_samples(G, D)\n"
   ]
  }
 ],
 "metadata": {
  "kernelspec": {
   "display_name": "2IA_DL",
   "language": "python",
   "name": "python3"
  },
  "language_info": {
   "codemirror_mode": {
    "name": "ipython",
    "version": 3
   },
   "file_extension": ".py",
   "mimetype": "text/x-python",
   "name": "python",
   "nbconvert_exporter": "python",
   "pygments_lexer": "ipython3",
   "version": "3.12.5"
  }
 },
 "nbformat": 4,
 "nbformat_minor": 5
}
